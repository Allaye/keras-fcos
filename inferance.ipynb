{
 "cells": [
  {
   "cell_type": "code",
   "execution_count": null,
   "metadata": {
    "ExecuteTime": {
     "end_time": "2020-03-21T17:20:07.679058Z",
     "start_time": "2020-03-21T17:14:00.347731Z"
    },
    "scrolled": true
   },
   "outputs": [],
   "source": [
    "# import keras\n",
    "import keras\n",
    "import models\n",
    "from utils.image import read_image_bgr, preprocess_image, resize_image\n",
    "from utils.visualization import draw_box, draw_caption\n",
    "from utils.colors import label_color\n",
    "from utils.anchors import guess_shapes, compute_locations\n",
    "from imutils.video import FileVideoStream\n",
    "from imutils.video import FPS\n",
    "import numpy as np\n",
    "import imutils\n",
    "import time\n",
    "import cv2\n",
    "# import miscellaneous modules\n",
    "import cv2\n",
    "import os\n",
    "import os.path as osp\n",
    "import numpy as np\n",
    "import time\n",
    "import glob\n",
    "\n",
    "# set tf backend to allow memory to grow, instead of claiming everything\n",
    "import tensorflow as tf\n",
    "from utils.anchors import guess_shapes, compute_locations\n",
    "\n",
    "\n",
    "def get_session():\n",
    "    config = tf.ConfigProto()\n",
    "    config.gpu_options.allow_growth = True\n",
    "    return tf.Session(config=config)\n",
    "\n",
    "get_session()\n",
    "\n",
    "# use this environment flag to change which GPU to use\n",
    "os.environ[\"CUDA_VISIBLE_DEVICES\"] = \"1\"\n",
    "\n",
    "# set the modified tf session as backend in keras\n",
    "keras.backend.tensorflow_backend.set_session(get_session())\n",
    "# adjust this to point to your downloaded/trained model\n",
    "# models can be downloaded here: https://github.com/fizyr/keras-retinanet/releases\n",
    "model_path = 'resnet50_pascal_01.h5'\n",
    "\n",
    "# load retinanet model\n",
    "model = models.load_model(model_path, backbone_name='resnet101')\n",
    "\n",
    "# if the model is not converted to an inference model, use the line below\n",
    "# see: https://github.com/fizyr/keras-retinanet#converting-a-training-model-to-inference-model\n",
    "model = models.convert_model(model)\n",
    "\n",
    "# load label to names mapping for visualization purposes\n",
    "voc_classes = {\n",
    "    'aeroplane': 0,\n",
    "    'bicycle': 1,\n",
    "    'bird': 2,\n",
    "    'boat': 3,\n",
    "    'bottle': 4,\n",
    "    'bus': 5,\n",
    "    'car': 6,\n",
    "    'cat': 7,\n",
    "    'chair': 8,\n",
    "    'cow': 9,\n",
    "    'diningtable': 10,\n",
    "    'dog': 11,\n",
    "    'horse': 12,\n",
    "    'motorbike': 13,\n",
    "    'person': 14,\n",
    "    'pottedplant': 15,\n",
    "    'sheep': 16,\n",
    "    'sofa': 17,\n",
    "    'train': 18,\n",
    "    'tvmonitor': 19\n",
    "}\n",
    "\n",
    "labels_to_names = {}\n",
    "for key, value in voc_classes.items():\n",
    "    labels_to_names[value] = key\n",
    "# load image\n",
    "image_paths = glob.glob('C:/Users/Allaye/Downloads/Compressed/Car/*.jpg')\n",
    "for image_path in image_paths:\n",
    "    \n",
    "    image = read_image_bgr(image_path)\n",
    "\n",
    "    # copy to draw on\n",
    "    draw = image.copy()\n",
    "\n",
    "    # preprocess image for network\n",
    "    image = preprocess_image(image)\n",
    "    image, scale = resize_image(image)\n",
    "\n",
    "    feature_shapes = guess_shapes(image.shape)\n",
    "    print(feature_shapes)\n",
    "    locations = compute_locations(feature_shapes)\n",
    "    for location in locations:\n",
    "        \n",
    "        print(location.shape)\n",
    "    # process image\n",
    "    start = time.time()\n",
    "    # locations, feature_shapes = model.predict_on_batch(np.expand_dims(image, axis=0))\n",
    "    boxes, scores, labels = model.predict_on_batch(np.expand_dims(image, axis=0))\n",
    "    print(\"processing time: \", time.time() - start)\n",
    "    \n",
    "    # correct for image scale\n",
    "    boxes /= scale\n",
    "    labels_to_locations = {}\n",
    "    # visualize detections\n",
    "    for box, score, label in zip(boxes[0], scores[0], labels[0]):\n",
    "        # scores are sorted so we can break\n",
    "        if score < 0.5:\n",
    "            break\n",
    "        start_x = int(box[0])\n",
    "        start_y = int(box[1])\n",
    "        end_x = int(box[2])\n",
    "        end_y = int(box[3])\n",
    "        color = label_color(label)\n",
    "\n",
    "        b = box.astype(int)\n",
    "        draw_box(draw, b, color=color)\n",
    "\n",
    "        caption = \"{} {:.3f}\".format(labels_to_names[label], score)\n",
    "        draw_caption(draw, b, caption)\n",
    "\n",
    "    cv2.namedWindow('image', cv2.WINDOW_NORMAL)\n",
    "    cv2.imshow('image', draw)\n",
    "    key = cv2.waitKey(0)\n",
    "    '''\n",
    "    if int(key) == 121:\n",
    "        image_fname = osp.split(image_path)[-1]\n",
    "        cv2.imwrite('test/{}'.format(image_fname), draw)\n",
    "        '''\n"
   ]
  },
  {
   "cell_type": "code",
   "execution_count": null,
   "metadata": {
    "ExecuteTime": {
     "end_time": "2020-03-21T17:20:07.685004Z",
     "start_time": "2020-03-21T17:20:07.681053Z"
    }
   },
   "outputs": [],
   "source": [
    "! python setup.py build_ext --inplace"
   ]
  },
  {
   "cell_type": "code",
   "execution_count": null,
   "metadata": {
    "ExecuteTime": {
     "end_time": "2020-03-21T17:20:07.866519Z",
     "start_time": "2020-03-21T17:20:07.686999Z"
    }
   },
   "outputs": [],
   "source": [
    "import tensorflow as tf\n",
    "\n",
    "tf.test.is_gpu_available(\n",
    "    cuda_only=False,\n",
    "    min_cuda_compute_capability=None\n",
    ")"
   ]
  },
  {
   "cell_type": "code",
   "execution_count": null,
   "metadata": {
    "ExecuteTime": {
     "end_time": "2020-03-21T17:20:08.817974Z",
     "start_time": "2020-03-21T17:20:07.868514Z"
    }
   },
   "outputs": [],
   "source": [
    "import tensorflow as tf\n",
    "with tf.device('/gpu:0'):\n",
    "    a = tf.constant([1.0, 2.0, 3.0, 4.0, 5.0, 6.0], shape=[2, 3], name='a')\n",
    "    b = tf.constant([1.0, 2.0, 3.0, 4.0, 5.0, 6.0], shape=[3, 2], name='b')\n",
    "    c = tf.matmul(a, b)\n",
    "\n",
    "with tf.Session() as sess:\n",
    "    print (sess.run(c))"
   ]
  },
  {
   "cell_type": "code",
   "execution_count": null,
   "metadata": {
    "ExecuteTime": {
     "end_time": "2020-03-21T17:20:09.367504Z",
     "start_time": "2020-03-21T17:20:08.819969Z"
    }
   },
   "outputs": [],
   "source": [
    "import keras \n",
    "from keras.models import load_model\n",
    "\n",
    "\n",
    "model = load_model('resnet50_pascal_37_0.6892.h5')"
   ]
  },
  {
   "cell_type": "code",
   "execution_count": null,
   "metadata": {
    "ExecuteTime": {
     "end_time": "2020-03-21T17:20:09.369533Z",
     "start_time": "2020-03-21T17:14:00.357Z"
    }
   },
   "outputs": [],
   "source": [
    "model."
   ]
  }
 ],
 "metadata": {
  "kernelspec": {
   "display_name": "Python 3",
   "language": "python",
   "name": "python3"
  },
  "language_info": {
   "codemirror_mode": {
    "name": "ipython",
    "version": 3
   },
   "file_extension": ".py",
   "mimetype": "text/x-python",
   "name": "python",
   "nbconvert_exporter": "python",
   "pygments_lexer": "ipython3",
   "version": "3.7.6"
  },
  "toc": {
   "base_numbering": 1,
   "nav_menu": {},
   "number_sections": true,
   "sideBar": true,
   "skip_h1_title": false,
   "title_cell": "Table of Contents",
   "title_sidebar": "Contents",
   "toc_cell": false,
   "toc_position": {},
   "toc_section_display": true,
   "toc_window_display": false
  }
 },
 "nbformat": 4,
 "nbformat_minor": 4
}
